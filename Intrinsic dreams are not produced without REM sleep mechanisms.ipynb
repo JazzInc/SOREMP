{
 "cells": [
  {
   "cell_type": "code",
   "execution_count": null,
   "metadata": {
    "kernel": "Python 3"
   },
   "outputs": [],
   "source": [
    "from IPython.display import HTML\n",
    "\n",
    "HTML('<img src=\"https://onlinelibrary.wiley.com/pb-assets/journal-banners/13652869-1501384678497.jpg\" />')"
   ]
  },
  {
   "cell_type": "markdown",
   "metadata": {
    "kernel": "SoS"
   },
   "source": [
    "## Наслов на истражувањето:\n",
    "\n",
    "# Intrinsic dreams are not produced without REM sleep mechanisms: evidence through elicitation of sleep onset REM periods"
   ]
  },
  {
   "cell_type": "markdown",
   "metadata": {
    "kernel": "SoS"
   },
   "source": [
    "### Луѓето од секогаш биле фасцинирани од мистичната третина на нашиот живот која дава плод на сите уметности. Уште од антички времиња филозофите се обидувале систематски да ја објаснат, дефинираат и документираат оваа појава наречена сон. Потрагата кулминира во 21от век користејќи ги сите современи алатки како EEG, EOG, EMG и напредните достигнувања во математиката и невропсихијатријата. Ова истражување дава одговор на безброј прашања и контроверзии околу SOREM/NREM фазите на соновите, јасно документирајќи ја нивната разлика во квалитетот и времетраењето."
   ]
  },
  {
   "cell_type": "code",
   "execution_count": null,
   "metadata": {
    "kernel": "Python 3"
   },
   "outputs": [],
   "source": [
    "from IPython.display import IFrame\n",
    "\n",
    "display(IFrame('https://www.youtube.com/embed/agRcU_Wz1hg', width=\"100%\", height=650))\n",
    "\n",
    "#HTML('<iframe width=\"560\" height=\"315\" src=\"https://www.youtube.com/embed/agRcU_Wz1hg\" frameborder=\"0\" allow=\"accelerometer; autoplay; clipboard-write; encrypted-media; gyroscope; picture-in-picture\" frameborder=\"0\" allowfullscreen></iframe>')"
   ]
  },
  {
   "cell_type": "code",
   "execution_count": null,
   "metadata": {},
   "outputs": [],
   "source": []
  }
 ],
 "metadata": {
  "kernelspec": {
   "display_name": "SoS",
   "language": "sos",
   "name": "sos"
  },
  "language_info": {
   "codemirror_mode": "sos",
   "file_extension": ".sos",
   "mimetype": "text/x-sos",
   "name": "sos",
   "nbconvert_exporter": "sos_notebook.converter.SoS_Exporter",
   "pygments_lexer": "sos"
  },
  "sos": {
   "kernels": [
    [
     "Python 3",
     "python3",
     "python3",
     "",
     {
      "name": "ipython",
      "version": 3
     }
    ],
    [
     "SoS",
     "sos",
     "",
     "",
     "sos"
    ]
   ],
   "version": "0.22.3"
  }
 },
 "nbformat": 4,
 "nbformat_minor": 4
}
